{
 "cells": [
  {
   "cell_type": "code",
   "execution_count": 1,
   "metadata": {},
   "outputs": [],
   "source": [
    "import pandas as pd\n",
    "import matplotlib.pyplot as plt\n",
    "import seaborn as sns\n",
    "import numpy as np\n",
    "from sklearn.preprocessing import OneHotEncoder\n",
    "import sys\n",
    "sys.path.append('../')\n",
    "from Function import *"
   ]
  },
  {
   "cell_type": "code",
   "execution_count": 2,
   "metadata": {},
   "outputs": [],
   "source": [
    "data = pd.read_csv('..\\data\\credit_customers.csv')\n",
    "data.columns = data.columns.str.strip()\n",
    "data = data.rename(columns={\"class\": \"Target\"})"
   ]
  },
  {
   "cell_type": "markdown",
   "metadata": {},
   "source": [
    "## Handling Outliers"
   ]
  },
  {
   "cell_type": "code",
   "execution_count": 3,
   "metadata": {},
   "outputs": [],
   "source": [
    "data = trimming(data, \"credit_amount\",2.5)"
   ]
  },
  {
   "cell_type": "markdown",
   "metadata": {},
   "source": [
    "## Categorical Cols"
   ]
  },
  {
   "cell_type": "code",
   "execution_count": 4,
   "metadata": {},
   "outputs": [],
   "source": [
    "num_data = data._get_numeric_data()\n",
    "cat_data = data.drop(columns=data._get_numeric_data().columns)"
   ]
  },
  {
   "cell_type": "code",
   "execution_count": 5,
   "metadata": {},
   "outputs": [],
   "source": [
    "# Divide categorical cols into 2 types:\n",
    "#   + Range cols: \n",
    "range_cols = ['checking_status','employment','savings_status','foreign_worker','own_telephone','Target']\n",
    "#   + Categorical cols: others\n",
    "ocat_cols = [col for col in cat_data.columns if col not in range_cols]"
   ]
  },
  {
   "cell_type": "markdown",
   "metadata": {},
   "source": [
    "## Deal with Range cols (Label Encoder)"
   ]
  },
  {
   "cell_type": "code",
   "execution_count": 6,
   "metadata": {},
   "outputs": [
    {
     "name": "stdout",
     "output_type": "stream",
     "text": [
      "--------------------Unique Values--------------------------\n",
      "\n",
      "\n",
      "checking_status : ['<0' '0<=X<200' 'no checking' '>=200']\n",
      "employment : ['>=7' '1<=X<4' '4<=X<7' 'unemployed' '<1']\n",
      "savings_status : ['no known savings' '<100' '500<=X<1000' '>=1000' '100<=X<500']\n",
      "foreign_worker : ['yes' 'no']\n",
      "own_telephone : ['yes' 'none']\n",
      "Target : ['good' 'bad']\n",
      "\n",
      "\n",
      "--------------------Process-----------------------------\n",
      "checking_status : [1 2 0 3]\n",
      "employment : [4 2 3 0 1]\n",
      "savings_status : [0 1 4 5 2]\n",
      "foreign_worker : [1 0]\n",
      "own_telephone : [2 0]\n",
      "Target : [0 1]\n"
     ]
    }
   ],
   "source": [
    "range_data = cat_data[range_cols]\n",
    "print('--------------------Unique Values--------------------------')\n",
    "print('\\n')\n",
    "for col in range_cols:\n",
    "    print(f'{col} : {range_data[col].unique()}')\n",
    "print('\\n')\n",
    "print('--------------------Process-----------------------------')\n",
    "checking_mapping = {'<0': 1, '0<=X<200': 2, 'no checking': 0, '>=200': 3}\n",
    "employment_mapping = {'>=7': 4, '1<=X<4': 2, '4<=X<7': 3, 'unemployed': 0, '<1': 1}\n",
    "savings_mapping = {'no known savings': 0, '<100': 1, '500<=X<1000': 4, '>=1000': 5, '100<=X<500': 2}\n",
    "foreign_mapping = {'no': 0, 'yes': 1}\n",
    "tele_mapping = {'none': 0, 'yes': 2}\n",
    "target_mapping = {'good':0, 'bad': 1}\n",
    "mapping_list = [checking_mapping,employment_mapping,savings_mapping,foreign_mapping,tele_mapping,target_mapping]\n",
    "\n",
    "for i,col in enumerate(range_cols):\n",
    "    data[col] = data[col].map(mapping_list[i])\n",
    "for col in range_cols:\n",
    "    print(f'{col} : {data[col].unique()}')"
   ]
  },
  {
   "cell_type": "markdown",
   "metadata": {},
   "source": [
    "## Deal with others cols (ordinal Encoder)"
   ]
  },
  {
   "cell_type": "code",
   "execution_count": 8,
   "metadata": {},
   "outputs": [
    {
     "name": "stdout",
     "output_type": "stream",
     "text": [
      "\n",
      "\n",
      "--------------------Process-----------------------------\n"
     ]
    }
   ],
   "source": [
    "ocat_data = cat_data[ocat_cols]\n",
    "onehot = OneHotEncoder()\n",
    "encoded_data = onehot.fit_transform(data[ocat_cols])\n"
   ]
  },
  {
   "cell_type": "markdown",
   "metadata": {},
   "source": [
    "# Final Data"
   ]
  },
  {
   "cell_type": "code",
   "execution_count": 10,
   "metadata": {},
   "outputs": [],
   "source": [
    "final_data = pd.concat((pd.DataFrame(encoded_data.toarray()),num_data.reset_index(drop = True),data[range_cols].reset_index(drop = True)), axis = 1)\n",
    "final_data.to_csv('../processed_data/data_lab+one.csv')"
   ]
  },
  {
   "cell_type": "code",
   "execution_count": null,
   "metadata": {},
   "outputs": [],
   "source": []
  }
 ],
 "metadata": {
  "kernelspec": {
   "display_name": "base",
   "language": "python",
   "name": "python3"
  },
  "language_info": {
   "codemirror_mode": {
    "name": "ipython",
    "version": 3
   },
   "file_extension": ".py",
   "mimetype": "text/x-python",
   "name": "python",
   "nbconvert_exporter": "python",
   "pygments_lexer": "ipython3",
   "version": "3.11.7"
  }
 },
 "nbformat": 4,
 "nbformat_minor": 2
}
