{
 "cells": [
  {
   "cell_type": "code",
   "execution_count": 1,
   "metadata": {},
   "outputs": [],
   "source": [
    "import pandas as pd\n",
    "import matplotlib.pyplot as plt\n",
    "import seaborn as sns\n",
    "import numpy as np\n",
    "import sys\n",
    "sys.path.append('../')\n",
    "from Function import *\n",
    "\n",
    "import warnings\n",
    "warnings.filterwarnings(\"ignore\")"
   ]
  },
  {
   "cell_type": "code",
   "execution_count": 2,
   "metadata": {},
   "outputs": [],
   "source": [
    "data = pd.read_csv('..\\data\\credit_customers.csv')\n",
    "data.columns = data.columns.str.strip()\n",
    "data = data.rename(columns={\"class\": \"Target\"})\n",
    "target_mapping = {'good':0, 'bad': 1}\n",
    "data['Target'] = data['Target'].map(target_mapping)\n",
    "X_train,X_test,y_train,y_test = split_train_test(data, 'Target', 0.2)"
   ]
  },
  {
   "cell_type": "code",
   "execution_count": 4,
   "metadata": {},
   "outputs": [],
   "source": [
    "woe = WOE()\n",
    "x_train,iv,woe_res = woe.fit(X_train, y_train)\n",
    "x_test = woe.transform(X_test)\n"
   ]
  },
  {
   "cell_type": "code",
   "execution_count": 5,
   "metadata": {},
   "outputs": [
    {
     "data": {
      "text/plain": [
       "checking_status           0\n",
       "duration                  0\n",
       "credit_history            0\n",
       "purpose                   0\n",
       "credit_amount             0\n",
       "savings_status            0\n",
       "employment                0\n",
       "installment_commitment    0\n",
       "personal_status           0\n",
       "other_parties             0\n",
       "residence_since           0\n",
       "property_magnitude        0\n",
       "age                       0\n",
       "other_payment_plans       0\n",
       "housing                   0\n",
       "existing_credits          0\n",
       "job                       0\n",
       "num_dependents            0\n",
       "own_telephone             0\n",
       "foreign_worker            0\n",
       "dtype: int64"
      ]
     },
     "execution_count": 5,
     "metadata": {},
     "output_type": "execute_result"
    }
   ],
   "source": [
    "X_train.isnull().sum()"
   ]
  },
  {
   "cell_type": "markdown",
   "metadata": {},
   "source": [
    "* After Calculating WOE for train and mapping bins to test, we find out that there are 1 missing value in test set. This is because the value in test set does not exist to any interval that counted on test set\n",
    "\n",
    "-> the solution here is i will fill NAN with mean of WOE of that columns"
   ]
  },
  {
   "cell_type": "code",
   "execution_count": 6,
   "metadata": {},
   "outputs": [
    {
     "data": {
      "text/plain": [
       "age                    0\n",
       "checking_status        0\n",
       "credit_amount          0\n",
       "credit_history         0\n",
       "duration               0\n",
       "employment             0\n",
       "foreign_worker         0\n",
       "housing                0\n",
       "other_payment_plans    0\n",
       "personal_status        0\n",
       "property_magnitude     0\n",
       "purpose                0\n",
       "savings_status         0\n",
       "dtype: int64"
      ]
     },
     "execution_count": 6,
     "metadata": {},
     "output_type": "execute_result"
    }
   ],
   "source": [
    "x_test.isnull().sum()"
   ]
  }
 ],
 "metadata": {
  "kernelspec": {
   "display_name": "base",
   "language": "python",
   "name": "python3"
  },
  "language_info": {
   "codemirror_mode": {
    "name": "ipython",
    "version": 3
   },
   "file_extension": ".py",
   "mimetype": "text/x-python",
   "name": "python",
   "nbconvert_exporter": "python",
   "pygments_lexer": "ipython3",
   "version": "3.11.7"
  }
 },
 "nbformat": 4,
 "nbformat_minor": 2
}
