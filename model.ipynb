{
 "cells": [
  {
   "cell_type": "code",
   "execution_count": 32,
   "metadata": {},
   "outputs": [
    {
     "data": {
      "text/plain": [
       "' This notebook was created with testing the ML algorithms with varies of data'"
      ]
     },
     "execution_count": 32,
     "metadata": {},
     "output_type": "execute_result"
    }
   ],
   "source": [
    "\"\"\" This notebook was created with testing the ML algorithms with varies of data\"\"\""
   ]
  },
  {
   "cell_type": "code",
   "execution_count": 33,
   "metadata": {},
   "outputs": [],
   "source": [
    "import pandas as pd\n",
    "import matplotlib.pyplot as plt\n",
    "import sys\n",
    "sys.path.append('..')\n",
    "from Function import *\n",
    "# Classification Algorithms\n",
    "from sklearn.linear_model import LogisticRegression\n",
    "from sklearn.ensemble import RandomForestClassifier\n",
    "from sklearn.tree import DecisionTreeClassifier\n",
    "from sklearn.svm import SVC\n",
    "from sklearn.discriminant_analysis import LinearDiscriminantAnalysis\n",
    "from sklearn.pipeline import Pipeline\n",
    "from sklearn.metrics import confusion_matrix, roc_auc_score, accuracy_score,classification_report\n",
    "\n",
    "import warnings\n",
    "warnings.filterwarnings(\"ignore\")"
   ]
  },
  {
   "cell_type": "markdown",
   "metadata": {},
   "source": [
    "# Training data - cross validation"
   ]
  },
  {
   "cell_type": "markdown",
   "metadata": {},
   "source": [
    "## Find Best suitable data"
   ]
  },
  {
   "cell_type": "code",
   "execution_count": 34,
   "metadata": {},
   "outputs": [],
   "source": [
    "def cross_val_result(X_train, y_train, models, scaler_model = None, prints= 1):\n",
    "    '''\n",
    "    Func to cross validate many models\n",
    "    '''\n",
    "    acc = 0\n",
    "    max_acc = 0\n",
    "    best_model = None\n",
    "    for model in models:\n",
    "        pipe_line = Pipeline([\n",
    "        ('scaler', scaler_model),  \n",
    "        ('classifier', model)])\n",
    "        result = cross_val(pipe_line, 5, X_train, y_train, prints)\n",
    "        acc += result\n",
    "        if result >= max_acc:\n",
    "            max_acc = result\n",
    "            best_model = model\n",
    "        print('\\n')\n",
    "    return acc/ len(models), best_model, max_acc\n",
    "\n",
    "models = [\n",
    "    LogisticRegression(max_iter= 10000, random_state = 17),\n",
    "    RandomForestClassifier(max_depth= 7, random_state = 17),\n",
    "    DecisionTreeClassifier(max_depth= 10, random_state = 17),\n",
    "    SVC(probability= True, random_state = 17),\n",
    "    LinearDiscriminantAnalysis(),\n",
    "]"
   ]
  },
  {
   "cell_type": "markdown",
   "metadata": {},
   "source": [
    "#### No normalize"
   ]
  },
  {
   "cell_type": "code",
   "execution_count": 35,
   "metadata": {},
   "outputs": [
    {
     "name": "stdout",
     "output_type": "stream",
     "text": [
      "Pipeline(steps=[('scaler', None),\n",
      "                ('classifier',\n",
      "                 LogisticRegression(max_iter=10000, random_state=17))]) - With 5 folds - Finsh in 1.44877290725708 seconds\n",
      "Cross-validation scores: [0.76129032 0.74025974 0.68181818 0.72727273 0.72727273]\n",
      "Mean CV score: 0.7275827398408043\n",
      "\n",
      "\n",
      "Pipeline(steps=[('scaler', None),\n",
      "                ('classifier',\n",
      "                 RandomForestClassifier(max_depth=7, random_state=17))]) - With 5 folds - Finsh in 1.1054680347442627 seconds\n",
      "Cross-validation scores: [0.74193548 0.76623377 0.7012987  0.75974026 0.74675325]\n",
      "Mean CV score: 0.7431922915793884\n",
      "\n",
      "\n",
      "Pipeline(steps=[('scaler', None),\n",
      "                ('classifier',\n",
      "                 DecisionTreeClassifier(max_depth=10, random_state=17))]) - With 5 folds - Finsh in 0.04510378837585449 seconds\n",
      "Cross-validation scores: [0.72903226 0.70779221 0.5974026  0.72727273 0.66883117]\n",
      "Mean CV score: 0.6860661918726434\n",
      "\n",
      "\n",
      "Pipeline(steps=[('scaler', None),\n",
      "                ('classifier', SVC(probability=True, random_state=17))]) - With 5 folds - Finsh in 0.4899425506591797 seconds\n",
      "Cross-validation scores: [0.69677419 0.69480519 0.69480519 0.69480519 0.69480519]\n",
      "Mean CV score: 0.6951989945538333\n",
      "\n",
      "\n",
      "Pipeline(steps=[('scaler', None), ('classifier', LinearDiscriminantAnalysis())]) - With 5 folds - Finsh in 0.04410529136657715 seconds\n",
      "Cross-validation scores: [0.78064516 0.75974026 0.69480519 0.74675325 0.72727273]\n",
      "Mean CV score: 0.7418433179723503\n",
      "\n",
      "\n"
     ]
    },
    {
     "data": {
      "text/plain": [
       "(0.7187767071638038,\n",
       " RandomForestClassifier(max_depth=7, random_state=17),\n",
       " 0.7431922915793884)"
      ]
     },
     "execution_count": 35,
     "metadata": {},
     "output_type": "execute_result"
    }
   ],
   "source": [
    "data1 = pd.read_csv('processed_data\\data_lab+one.csv', index_col= 0)\n",
    "X_train,X_test,y_train,y_test = split_train_test(data1, 'Target', 0.2)\n",
    "\n",
    "cross_val_result(X_train, y_train, models)"
   ]
  },
  {
   "cell_type": "code",
   "execution_count": 36,
   "metadata": {},
   "outputs": [
    {
     "name": "stdout",
     "output_type": "stream",
     "text": [
      "Pipeline(steps=[('scaler', None),\n",
      "                ('classifier',\n",
      "                 LogisticRegression(max_iter=10000, random_state=17))]) - With 5 folds - Finsh in 1.5377461910247803 seconds\n",
      "Cross-validation scores: [0.77419355 0.74025974 0.67532468 0.74025974 0.73376623]\n",
      "Mean CV score: 0.7327607875994973\n",
      "\n",
      "\n",
      "Pipeline(steps=[('scaler', None),\n",
      "                ('classifier',\n",
      "                 RandomForestClassifier(max_depth=7, random_state=17))]) - With 5 folds - Finsh in 1.0879240036010742 seconds\n",
      "Cross-validation scores: [0.72258065 0.79220779 0.69480519 0.77272727 0.74025974]\n",
      "Mean CV score: 0.744516129032258\n",
      "\n",
      "\n",
      "Pipeline(steps=[('scaler', None),\n",
      "                ('classifier',\n",
      "                 DecisionTreeClassifier(max_depth=10, random_state=17))]) - With 5 folds - Finsh in 0.04700326919555664 seconds\n",
      "Cross-validation scores: [0.7483871  0.70779221 0.64935065 0.70779221 0.68181818]\n",
      "Mean CV score: 0.6990280687054881\n",
      "\n",
      "\n",
      "Pipeline(steps=[('scaler', None),\n",
      "                ('classifier', SVC(probability=True, random_state=17))]) - With 5 folds - Finsh in 0.528771162033081 seconds\n",
      "Cross-validation scores: [0.69677419 0.69480519 0.69480519 0.69480519 0.69480519]\n",
      "Mean CV score: 0.6951989945538333\n",
      "\n",
      "\n",
      "Pipeline(steps=[('scaler', None), ('classifier', LinearDiscriminantAnalysis())]) - With 5 folds - Finsh in 0.07726144790649414 seconds\n",
      "Cross-validation scores: [0.78709677 0.76623377 0.68181818 0.75324675 0.73376623]\n",
      "Mean CV score: 0.7444323418516967\n",
      "\n",
      "\n"
     ]
    },
    {
     "data": {
      "text/plain": [
       "(0.7231872643485546,\n",
       " RandomForestClassifier(max_depth=7, random_state=17),\n",
       " 0.744516129032258)"
      ]
     },
     "execution_count": 36,
     "metadata": {},
     "output_type": "execute_result"
    }
   ],
   "source": [
    "data = pd.read_csv('processed_data\\data_lab+one.csv', index_col= 0)\n",
    "data = selectkbest(data.drop(columns='Target'), data['Target'], 0.7)\n",
    "X_train,X_test,y_train,y_test = split_train_test(data, 'Target', 0.2)\n",
    "\n",
    "cross_val_result(X_train, y_train, models)"
   ]
  },
  {
   "cell_type": "markdown",
   "metadata": {},
   "source": [
    "#### Normalize"
   ]
  },
  {
   "cell_type": "code",
   "execution_count": 37,
   "metadata": {},
   "outputs": [],
   "source": [
    "from sklearn.preprocessing import StandardScaler\n",
    "from sklearn.preprocessing import MinMaxScaler"
   ]
  },
  {
   "cell_type": "code",
   "execution_count": 38,
   "metadata": {},
   "outputs": [
    {
     "name": "stdout",
     "output_type": "stream",
     "text": [
      "Pipeline(steps=[('scaler', StandardScaler()),\n",
      "                ('classifier',\n",
      "                 LogisticRegression(max_iter=10000, random_state=17))]) - With 5 folds - Finsh in 0.1413424015045166 seconds\n",
      "Cross-validation scores: [0.76774194 0.77272727 0.67532468 0.77272727 0.69480519]\n",
      "Mean CV score: 0.7366652702136574\n",
      "\n",
      "\n"
     ]
    },
    {
     "name": "stdout",
     "output_type": "stream",
     "text": [
      "Pipeline(steps=[('scaler', StandardScaler()),\n",
      "                ('classifier',\n",
      "                 RandomForestClassifier(max_depth=7, random_state=17))]) - With 5 folds - Finsh in 1.0365679264068604 seconds\n",
      "Cross-validation scores: [0.76129032 0.77922078 0.68181818 0.76623377 0.75324675]\n",
      "Mean CV score: 0.7483619606200251\n",
      "\n",
      "\n",
      "Pipeline(steps=[('scaler', StandardScaler()),\n",
      "                ('classifier',\n",
      "                 DecisionTreeClassifier(max_depth=10, random_state=17))]) - With 5 folds - Finsh in 0.05692243576049805 seconds\n",
      "Cross-validation scores: [0.72903226 0.69480519 0.64285714 0.68831169 0.65584416]\n",
      "Mean CV score: 0.6821700879765396\n",
      "\n",
      "\n",
      "Pipeline(steps=[('scaler', StandardScaler()),\n",
      "                ('classifier', SVC(probability=True, random_state=17))]) - With 5 folds - Finsh in 0.5112016201019287 seconds\n",
      "Cross-validation scores: [0.73548387 0.75974026 0.68831169 0.74675325 0.73376623]\n",
      "Mean CV score: 0.732811059907834\n",
      "\n",
      "\n",
      "Pipeline(steps=[('scaler', StandardScaler()),\n",
      "                ('classifier', LinearDiscriminantAnalysis())]) - With 5 folds - Finsh in 0.057434797286987305 seconds\n",
      "Cross-validation scores: [0.77419355 0.77922078 0.69480519 0.75974026 0.72077922]\n",
      "Mean CV score: 0.7457478005865102\n",
      "\n",
      "\n"
     ]
    },
    {
     "data": {
      "text/plain": [
       "(0.7291512358609132,\n",
       " RandomForestClassifier(max_depth=7, random_state=17),\n",
       " 0.7483619606200251)"
      ]
     },
     "execution_count": 38,
     "metadata": {},
     "output_type": "execute_result"
    }
   ],
   "source": [
    "data1 = pd.read_csv('processed_data\\data_lab+one.csv', index_col= 0)\n",
    "data1 = selectkbest(data1.drop(columns='Target'), data1['Target'], 0.8)\n",
    "X_train,X_test,y_train,y_test = split_train_test(data1, 'Target', 0.2)\n",
    "\n",
    "cross_val_result(X_train, y_train, models,scaler_model=StandardScaler())\n",
    "# cross_val_result(X_train, y_train, models,scaler_model= MinMaxScaler())"
   ]
  },
  {
   "cell_type": "markdown",
   "metadata": {},
   "source": [
    "#### Data using Weight of Evidence"
   ]
  },
  {
   "cell_type": "code",
   "execution_count": 39,
   "metadata": {},
   "outputs": [
    {
     "name": "stdout",
     "output_type": "stream",
     "text": [
      "Pipeline(steps=[('scaler', None),\n",
      "                ('classifier',\n",
      "                 LogisticRegression(max_iter=10000, random_state=17))]) - With 5 folds - Finsh in 0.06600260734558105 seconds\n",
      "Cross-validation scores: [0.7375  0.725   0.8     0.7375  0.78125]\n",
      "Mean CV score: 0.75625\n",
      "\n",
      "\n"
     ]
    },
    {
     "name": "stdout",
     "output_type": "stream",
     "text": [
      "Pipeline(steps=[('scaler', None),\n",
      "                ('classifier',\n",
      "                 RandomForestClassifier(max_depth=7, random_state=17))]) - With 5 folds - Finsh in 1.0406012535095215 seconds\n",
      "Cross-validation scores: [0.7     0.71875 0.79375 0.73125 0.78125]\n",
      "Mean CV score: 0.7449999999999999\n",
      "\n",
      "\n",
      "Pipeline(steps=[('scaler', None),\n",
      "                ('classifier',\n",
      "                 DecisionTreeClassifier(max_depth=10, random_state=17))]) - With 5 folds - Finsh in 0.04099273681640625 seconds\n",
      "Cross-validation scores: [0.64375 0.6875  0.61875 0.59375 0.725  ]\n",
      "Mean CV score: 0.65375\n",
      "\n",
      "\n",
      "Pipeline(steps=[('scaler', None),\n",
      "                ('classifier', SVC(probability=True, random_state=17))]) - With 5 folds - Finsh in 0.47697997093200684 seconds\n",
      "Cross-validation scores: [0.7375 0.7375 0.825  0.7    0.7875]\n",
      "Mean CV score: 0.7575000000000001\n",
      "\n",
      "\n",
      "Pipeline(steps=[('scaler', None), ('classifier', LinearDiscriminantAnalysis())]) - With 5 folds - Finsh in 0.035999298095703125 seconds\n",
      "Cross-validation scores: [0.73125 0.725   0.79375 0.7125  0.7875 ]\n",
      "Mean CV score: 0.75\n",
      "\n",
      "\n"
     ]
    },
    {
     "data": {
      "text/plain": [
       "(0.7324999999999999,\n",
       " SVC(probability=True, random_state=17),\n",
       " 0.7575000000000001)"
      ]
     },
     "execution_count": 39,
     "metadata": {},
     "output_type": "execute_result"
    }
   ],
   "source": [
    "data = pd.read_csv('data\\credit_customers.csv')\n",
    "data.columns = data.columns.str.strip()\n",
    "data = data.rename(columns={\"class\": \"Target\"})\n",
    "target_mapping = {'good':0, 'bad': 1}\n",
    "data['Target'] = data['Target'].map(target_mapping)\n",
    "X_train,X_test,y_train,y_test = split_train_test(data, 'Target', 0.2)\n",
    "woe = WOE()\n",
    "X_train,iv,woe_res = woe.fit(X_train, y_train)\n",
    "X_test = woe.transform(X_test)\n",
    "\n",
    "cross_val_result(X_train, y_train, models)"
   ]
  },
  {
   "cell_type": "markdown",
   "metadata": {},
   "source": [
    "## Find best model performance"
   ]
  },
  {
   "cell_type": "code",
   "execution_count": 44,
   "metadata": {},
   "outputs": [
    {
     "name": "stdout",
     "output_type": "stream",
     "text": [
      "\n",
      "\n",
      "\n",
      "\n"
     ]
    },
    {
     "name": "stdout",
     "output_type": "stream",
     "text": [
      "\n",
      "\n",
      "\n",
      "\n"
     ]
    },
    {
     "data": {
      "text/plain": [
       "(0.7369878508588186,\n",
       " LogisticRegression(max_iter=10000, penalty='l1', random_state=17, solver='saga'),\n",
       " 0.7392542940930038)"
      ]
     },
     "execution_count": 44,
     "metadata": {},
     "output_type": "execute_result"
    }
   ],
   "source": [
    "data1 = pd.read_csv('processed_data\\data_lab+one.csv', index_col= 0)\n",
    "data1 = selectkbest(data1.drop(columns='Target'), data1['Target'], 0.8)\n",
    "X_train,X_test,y_train,y_test = split_train_test(data1, 'Target', 0.2)\n",
    "\n",
    "models = [\n",
    "    LogisticRegression(max_iter= 10000, random_state = 17),\n",
    "    LogisticRegression(max_iter= 10000, random_state = 17, solver='saga', penalty = 'l1'),\n",
    "    LogisticRegression(max_iter= 10000, random_state = 17, solver = 'saga', penalty = 'l2'),\n",
    "    LogisticRegression(max_iter= 10000, random_state = 17, solver = 'saga', penalty = 'elasticnet', l1_ratio = 0.3),\n",
    "\n",
    "]\n",
    "cross_val_result(X_train, y_train, models,scaler_model=StandardScaler(),prints= 0)"
   ]
  },
  {
   "cell_type": "markdown",
   "metadata": {},
   "source": [
    "# Predict - Out-of-Sample"
   ]
  },
  {
   "cell_type": "code",
   "execution_count": 41,
   "metadata": {},
   "outputs": [
    {
     "data": {
      "text/plain": [
       "(array([[129,  21],\n",
       "        [ 27,  16]], dtype=int64),\n",
       " 0.7512953367875648,\n",
       " 0.43243243243243246,\n",
       " 0.37209302325581395,\n",
       " 0.4)"
      ]
     },
     "execution_count": 41,
     "metadata": {},
     "output_type": "execute_result"
    }
   ],
   "source": [
    "pipe_line = Pipeline([\n",
    "    # ('scaler', StandardScaler()),  \n",
    "    ('classifier', LogisticRegression(max_iter= 10000))  \n",
    "])\n",
    "\n",
    "random_forest_1 = LogisticRegression(max_iter= 10000)\n",
    "pod = prediction_result(random_forest_1, X_train,X_test,y_train,y_test)\n",
    "\n",
    "me = ModelEvaluation(pod)\n",
    "me.compute_conf_mat()"
   ]
  },
  {
   "cell_type": "code",
   "execution_count": 42,
   "metadata": {},
   "outputs": [
    {
     "data": {
      "image/png": "[encoded data removed]",
      "text/plain": [
       "<Figure size 640x480 with 1 Axes>"
      ]
     },
     "metadata": {},
     "output_type": "display_data"
    }
   ],
   "source": [
    "me.plot_roc_curve()"
   ]
  },
  {
   "cell_type": "code",
   "execution_count": null,
   "metadata": {},
   "outputs": [],
   "source": []
  }
 ],
 "metadata": {
  "kernelspec": {
   "display_name": "base",
   "language": "python",
   "name": "python3"
  },
  "language_info": {
   "codemirror_mode": {
    "name": "ipython",
    "version": 3
   },
   "file_extension": ".py",
   "mimetype": "text/x-python",
   "name": "python",
   "nbconvert_exporter": "python",
   "pygments_lexer": "ipython3",
   "version": "3.11.7"
  }
 },
 "nbformat": 4,
 "nbformat_minor": 2
}
